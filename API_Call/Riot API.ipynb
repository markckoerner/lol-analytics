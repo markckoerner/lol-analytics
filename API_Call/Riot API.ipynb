{
 "cells": [
  {
   "cell_type": "code",
   "execution_count": 1,
   "metadata": {},
   "outputs": [],
   "source": [
    "import requests\n",
    "import json\n",
    "import pandas as pd\n",
    "import os\n",
    "\n",
    "from google.cloud import bigquery\n",
    "from google.oauth2 import service_account\n",
    "\n",
    "#external modules\n",
    "import api_call_helpers as ach\n",
    "import bigquery_functions as pp\n",
    "# for auto-reloading external modules\n",
    "%load_ext autoreload\n",
    "%autoreload 2"
   ]
  },
  {
   "cell_type": "code",
   "execution_count": 2,
   "metadata": {},
   "outputs": [],
   "source": [
    "# bigquery credentials\n",
    "path = os.getcwd()\n",
    "secrets_filename = 'bigquery_auth.json'\n",
    "\n",
    "CREDENTIALS = service_account.Credentials.from_service_account_file(\n",
    "    f'{path}/{secrets_filename}')\n",
    "PROJECT_ID = 'riotdashboard-283414'\n",
    "DATASET_ID = 'RIOT_DWH'\n",
    "TABLE_ID = 'MATCH_STATISTICS'"
   ]
  },
  {
   "cell_type": "code",
   "execution_count": 3,
   "metadata": {},
   "outputs": [],
   "source": [
    "# set up riot params\n",
    "USERNAME = 'tanas0rn'\n",
    "API_KEY = 'RGAPI-3f64c44b-25b4-43d0-ad7b-cf5a52fca5f1'\n",
    "ORIGIN = \"https://developer.riotgames.com\"\n",
    "ACCEPT_CHARSET = \"application/x-www-form-urlencoded; charset=UTF-8\"\n",
    "ACCEPT_LANGUAGE = \"de-DE,de;q=0.9,en-US;q=0.8,en;q=0.7,en-GB;q=0.6\"\n",
    "USER_AGENT = \"Mozilla/5.0 (Macintosh; Intel Mac OS X 10_15_5) AppleWebKit/537.36 (KHTML, like Gecko) Chrome/83.0.4103.116 Safari/537.36\"\n",
    "\n",
    "headers = {\n",
    "    \"User-Agent\": USER_AGENT,\n",
    "    \"Accept-Language\": ACCEPT_LANGUAGE,\n",
    "    \"Accept-Charset\": ACCEPT_CHARSET,\n",
    "    \"Origin\": ORIGIN,\n",
    "    \"X-Riot-Token\": API_KEY\n",
    "}"
   ]
  },
  {
   "cell_type": "markdown",
   "metadata": {},
   "source": [
    "# Connect to bigquery \n",
    "(get existing matches so that we dont insert matches already in the table)"
   ]
  },
  {
   "cell_type": "code",
   "execution_count": 4,
   "metadata": {},
   "outputs": [],
   "source": [
    "# connect to BigQuery \n",
    "# get list of all existing matches/players\n",
    "client = bigquery.Client(credentials= CREDENTIALS,project=PROJECT_ID)\n",
    "\n",
    "query = \"\"\"\n",
    "SELECT matchID, summonername\n",
    "FROM RIOT_DWH.MATCH_STATISTICS;\n",
    "\"\"\"\n",
    "\n",
    "query_job = client.query(query)\n",
    "results = query_job.result() "
   ]
  },
  {
   "cell_type": "markdown",
   "metadata": {},
   "source": [
    "# Query riot api"
   ]
  },
  {
   "cell_type": "code",
   "execution_count": 5,
   "metadata": {},
   "outputs": [],
   "source": [
    "# get summoner info (account ID etc)\n",
    "encrypted_account_id = ach.get_encrypted_accid(USERNAME,headers)"
   ]
  },
  {
   "cell_type": "code",
   "execution_count": 6,
   "metadata": {},
   "outputs": [
    {
     "name": "stdout",
     "output_type": "stream",
     "text": [
      "Total 255 Matches Retrieved\n"
     ]
    }
   ],
   "source": [
    "# get match list for summoner\n",
    "match_list = ach.get_match_list_by_accid(encrypted_account_id,headers)"
   ]
  },
  {
   "cell_type": "code",
   "execution_count": 7,
   "metadata": {},
   "outputs": [],
   "source": [
    "# get all of the match IDs\n",
    "match_ids = [item['gameId'] for item in match_list]\n",
    "match_id = match_ids[0]"
   ]
  },
  {
   "cell_type": "code",
   "execution_count": 30,
   "metadata": {},
   "outputs": [
    {
     "name": "stdout",
     "output_type": "stream",
     "text": [
      "4718627204\n",
      "4718642110\n",
      "4645165732\n",
      "4645161532\n",
      "4645044253\n",
      "4644927812\n",
      "4644845260\n",
      "4644649846\n",
      "4644522144\n",
      "4644247184\n",
      "4637451701\n",
      "4624982041\n",
      "4619374728\n",
      "4613342684\n",
      "4429840064\n",
      "4428341149\n",
      "4428195686\n",
      "4426871811\n",
      "4425498151\n",
      "4418520385\n",
      "4418495755\n",
      "4415740482\n",
      "4415652050\n",
      "4412372386\n",
      "4412248032\n",
      "4406574875\n",
      "4403476468\n",
      "4401712288\n",
      "4400454500\n",
      "4400482048\n",
      "4400450483\n",
      "4399317507\n",
      "4397285400\n",
      "4397248242\n",
      "4394734741\n",
      "4392927640\n",
      "4392920807\n",
      "4376714718\n",
      "4374308739\n",
      "4372868644\n",
      "4372750341\n",
      "4372381033\n",
      "4372288812\n",
      "4372200276\n",
      "4372128420\n",
      "4371912223\n",
      "4371848844\n",
      "4371750360\n",
      "4370265465\n",
      "4370148195\n"
     ]
    }
   ],
   "source": [
    "# get match stats\n",
    "matchstats = []\n",
    "for match_id in match_ids[:50]:\n",
    "    stats = ach.get_match_stats(USERNAME,match_id,headers)\n",
    "    \n",
    "    matchstats.append(stats)"
   ]
  },
  {
   "cell_type": "markdown",
   "metadata": {},
   "source": [
    "# Data preprocessing (to tuples + remove unwanted fields)"
   ]
  },
  {
   "cell_type": "markdown",
   "metadata": {},
   "source": [
    "df = pd.DataFrame(matchstats)\n",
    "for col in df.columns:\n",
    "    print(col)"
   ]
  },
  {
   "cell_type": "code",
   "execution_count": 20,
   "metadata": {},
   "outputs": [],
   "source": [
    "keys_to_remove = (\n",
    "    'item0',\n",
    "    'item1',\n",
    "    'item2',\n",
    "    'item3',\n",
    "    'item4',\n",
    "    'item5',\n",
    "    'item6',\n",
    "    'playerScore0',\n",
    "    'playerScore1',\n",
    "    'playerScore2',\n",
    "    'playerScore3',\n",
    "    'playerScore4',\n",
    "    'playerScore5',\n",
    "    'playerScore6',\n",
    "    'playerScore7',\n",
    "    'playerScore8',\n",
    "    'playerScore9',\n",
    "    'perk0',\n",
    "    'perk0Var1',\n",
    "    'perk0Var2',\n",
    "    'perk0Var3',\n",
    "    'perk1',\n",
    "    'perk1Var1',\n",
    "    'perk1Var2',\n",
    "    'perk1Var3',\n",
    "    'perk2',\n",
    "    'perk2Var1',\n",
    "    'perk2Var2',\n",
    "    'perk2Var3',\n",
    "    'perk3',\n",
    "    'perk3Var1',\n",
    "    'perk3Var2',\n",
    "    'perk3Var3',\n",
    "    'perk4',\n",
    "    'perk4Var1',\n",
    "    'perk4Var2',\n",
    "    'perk4Var3',\n",
    "    'perk5',\n",
    "    'perk5Var1',\n",
    "    'perk5Var2',\n",
    "    'perk5Var3',\n",
    "    'perkPrimaryStyle',\n",
    "    'perkSubStyle',\n",
    "    'statPerk0',\n",
    "    'statPerk1',\n",
    "    'statPerk2',\n",
    "    'firstInhibitorKill', \n",
    "    'firstInhibitorAssist'\n",
    ")"
   ]
  },
  {
   "cell_type": "code",
   "execution_count": 21,
   "metadata": {},
   "outputs": [],
   "source": [
    "for match in matchstats:\n",
    "    pp.entries_to_remove(keys_to_remove,match)"
   ]
  },
  {
   "cell_type": "code",
   "execution_count": 22,
   "metadata": {},
   "outputs": [],
   "source": [
    "#convert to tuples\n",
    "matchstats_tuples = [tuple(d.values()) for d in matchstats]"
   ]
  },
  {
   "cell_type": "code",
   "execution_count": 52,
   "metadata": {},
   "outputs": [],
   "source": [
    "matchstats_str = []\n",
    "for match in matchstats_tuples[25:26]:\n",
    "    matchstats_str.append(str(match))"
   ]
  },
  {
   "cell_type": "code",
   "execution_count": 53,
   "metadata": {},
   "outputs": [],
   "source": [
    "matchstats_insert = \",\".join(matchstats_str)"
   ]
  },
  {
   "cell_type": "markdown",
   "metadata": {},
   "source": [
    "# Insert data into bigquery table"
   ]
  },
  {
   "cell_type": "code",
   "execution_count": 55,
   "metadata": {},
   "outputs": [],
   "source": [
    "# Insert rows to table\n",
    "pp.insert_rows_to_tables(credentials = CREDENTIALS,\n",
    "                          project_id = PROJECT_ID,\n",
    "                          dataset_id = DATASET_ID,\n",
    "                          table_id = TABLE_ID,\n",
    "                          insert_rows = matchstats_insert)"
   ]
  },
  {
   "cell_type": "code",
   "execution_count": null,
   "metadata": {},
   "outputs": [],
   "source": []
  },
  {
   "cell_type": "code",
   "execution_count": null,
   "metadata": {},
   "outputs": [],
   "source": []
  },
  {
   "cell_type": "code",
   "execution_count": null,
   "metadata": {},
   "outputs": [],
   "source": []
  },
  {
   "cell_type": "code",
   "execution_count": null,
   "metadata": {},
   "outputs": [],
   "source": []
  },
  {
   "cell_type": "code",
   "execution_count": null,
   "metadata": {},
   "outputs": [],
   "source": []
  }
 ],
 "metadata": {
  "kernelspec": {
   "display_name": "Python 3",
   "language": "python",
   "name": "python3"
  },
  "language_info": {
   "codemirror_mode": {
    "name": "ipython",
    "version": 3
   },
   "file_extension": ".py",
   "mimetype": "text/x-python",
   "name": "python",
   "nbconvert_exporter": "python",
   "pygments_lexer": "ipython3",
   "version": "3.7.6"
  }
 },
 "nbformat": 4,
 "nbformat_minor": 4
}
