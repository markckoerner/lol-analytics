{
 "cells": [
  {
   "cell_type": "code",
   "execution_count": 1,
   "metadata": {},
   "outputs": [],
   "source": [
    "import requests\n",
    "import json\n",
    "import pandas as pd\n",
    "\n",
    "#external modules\n",
    "import api_call_helpers as ach\n",
    "# for auto-reloading external modules\n",
    "%load_ext autoreload\n",
    "%autoreload 2"
   ]
  },
  {
   "cell_type": "code",
   "execution_count": 2,
   "metadata": {},
   "outputs": [],
   "source": [
    "# set up params\n",
    "USERNAME = 'tanas0rn'\n",
    "API_KEY = 'RGAPI-21e3113c-6f6c-4b33-8cd0-721e8bb19c49'\n",
    "ORIGIN = \"https://developer.riotgames.com\"\n",
    "ACCEPT_CHARSET = \"application/x-www-form-urlencoded; charset=UTF-8\"\n",
    "ACCEPT_LANGUAGE = \"de-DE,de;q=0.9,en-US;q=0.8,en;q=0.7,en-GB;q=0.6\"\n",
    "USER_AGENT = \"Mozilla/5.0 (Macintosh; Intel Mac OS X 10_15_5) AppleWebKit/537.36 (KHTML, like Gecko) Chrome/83.0.4103.116 Safari/537.36\"\n",
    "\n",
    "headers = {\n",
    "    \"User-Agent\": USER_AGENT,\n",
    "    \"Accept-Language\": ACCEPT_LANGUAGE,\n",
    "    \"Accept-Charset\": ACCEPT_CHARSET,\n",
    "    \"Origin\": ORIGIN,\n",
    "    \"X-Riot-Token\": API_KEY\n",
    "}"
   ]
  },
  {
   "cell_type": "code",
   "execution_count": 3,
   "metadata": {},
   "outputs": [],
   "source": [
    "# connect to BigQuery "
   ]
  },
  {
   "cell_type": "code",
   "execution_count": 4,
   "metadata": {},
   "outputs": [
    {
     "name": "stdout",
     "output_type": "stream",
     "text": [
      " Request Successful\n"
     ]
    }
   ],
   "source": [
    "# get summoner info (account ID etc)\n",
    "encrypted_account_id = ach.get_encrypted_accid(USERNAME,headers)"
   ]
  },
  {
   "cell_type": "code",
   "execution_count": 5,
   "metadata": {},
   "outputs": [
    {
     "name": "stdout",
     "output_type": "stream",
     "text": [
      " Request Successful\n",
      " Request Successful\n",
      " Request Successful\n",
      "Total 253 Matches Retrieved\n"
     ]
    }
   ],
   "source": [
    "# get match list for summoner\n",
    "match_list = ach.get_match_list_by_accid(encrypted_account_id,headers)"
   ]
  },
  {
   "cell_type": "code",
   "execution_count": 6,
   "metadata": {},
   "outputs": [],
   "source": [
    "# get all of the match IDs\n",
    "match_ids = [item['gameId'] for item in match_list]\n",
    "match_id = match_ids[0]"
   ]
  },
  {
   "cell_type": "code",
   "execution_count": 7,
   "metadata": {},
   "outputs": [
    {
     "name": "stdout",
     "output_type": "stream",
     "text": [
      " Request Successful\n",
      " Request Successful\n",
      " Request Successful\n",
      " Request Successful\n",
      " Request Successful\n"
     ]
    }
   ],
   "source": [
    "# get match stats\n",
    "matchstats = []\n",
    "for match_id in match_ids[:5]:\n",
    "    stats = ach.get_match_stats(USERNAME,match_id,headers)\n",
    "    \n",
    "    matchstats.append(stats)"
   ]
  },
  {
   "cell_type": "code",
   "execution_count": 8,
   "metadata": {},
   "outputs": [
    {
     "name": "stdout",
     "output_type": "stream",
     "text": [
      "participantId\n",
      "win\n",
      "item0\n",
      "item1\n",
      "item2\n",
      "item3\n",
      "item4\n",
      "item5\n",
      "item6\n",
      "kills\n",
      "deaths\n",
      "assists\n",
      "largestKillingSpree\n",
      "largestMultiKill\n",
      "killingSprees\n",
      "longestTimeSpentLiving\n",
      "doubleKills\n",
      "tripleKills\n",
      "quadraKills\n",
      "pentaKills\n",
      "unrealKills\n",
      "totalDamageDealt\n",
      "magicDamageDealt\n",
      "physicalDamageDealt\n",
      "trueDamageDealt\n",
      "largestCriticalStrike\n",
      "totalDamageDealtToChampions\n",
      "magicDamageDealtToChampions\n",
      "physicalDamageDealtToChampions\n",
      "trueDamageDealtToChampions\n",
      "totalHeal\n",
      "totalUnitsHealed\n",
      "damageSelfMitigated\n",
      "damageDealtToObjectives\n",
      "damageDealtToTurrets\n",
      "visionScore\n",
      "timeCCingOthers\n",
      "totalDamageTaken\n",
      "magicalDamageTaken\n",
      "physicalDamageTaken\n",
      "trueDamageTaken\n",
      "goldEarned\n",
      "goldSpent\n",
      "turretKills\n",
      "inhibitorKills\n",
      "totalMinionsKilled\n",
      "neutralMinionsKilled\n",
      "neutralMinionsKilledTeamJungle\n",
      "neutralMinionsKilledEnemyJungle\n",
      "totalTimeCrowdControlDealt\n",
      "champLevel\n",
      "visionWardsBoughtInGame\n",
      "sightWardsBoughtInGame\n",
      "wardsPlaced\n",
      "wardsKilled\n",
      "firstBloodKill\n",
      "firstBloodAssist\n",
      "firstTowerKill\n",
      "firstTowerAssist\n",
      "firstInhibitorKill\n",
      "firstInhibitorAssist\n",
      "combatPlayerScore\n",
      "objectivePlayerScore\n",
      "totalPlayerScore\n",
      "totalScoreRank\n",
      "playerScore0\n",
      "playerScore1\n",
      "playerScore2\n",
      "playerScore3\n",
      "playerScore4\n",
      "playerScore5\n",
      "playerScore6\n",
      "playerScore7\n",
      "playerScore8\n",
      "playerScore9\n",
      "perk0\n",
      "perk0Var1\n",
      "perk0Var2\n",
      "perk0Var3\n",
      "perk1\n",
      "perk1Var1\n",
      "perk1Var2\n",
      "perk1Var3\n",
      "perk2\n",
      "perk2Var1\n",
      "perk2Var2\n",
      "perk2Var3\n",
      "perk3\n",
      "perk3Var1\n",
      "perk3Var2\n",
      "perk3Var3\n",
      "perk4\n",
      "perk4Var1\n",
      "perk4Var2\n",
      "perk4Var3\n",
      "perk5\n",
      "perk5Var1\n",
      "perk5Var2\n",
      "perk5Var3\n",
      "perkPrimaryStyle\n",
      "perkSubStyle\n",
      "statPerk0\n",
      "statPerk1\n",
      "statPerk2\n",
      "matchID\n",
      "summonername\n",
      "gameCreationDate\n"
     ]
    }
   ],
   "source": [
    "df = pd.DataFrame(matchstats)\n",
    "for col in df.columns:\n",
    "    print(col)"
   ]
  },
  {
   "cell_type": "code",
   "execution_count": 9,
   "metadata": {},
   "outputs": [],
   "source": [
    "columns_to_remove = [\n",
    "    'item0',\n",
    "    'item1',\n",
    "    'item2',\n",
    "    'item3',\n",
    "    'item4',\n",
    "    'item5',\n",
    "    'item6',\n",
    "    'playerScore0',\n",
    "    'playerScore1',\n",
    "    'playerScore2',\n",
    "    'playerScore3',\n",
    "    'playerScore4',\n",
    "    'playerScore5',\n",
    "    'playerScore6',\n",
    "    'playerScore7',\n",
    "    'playerScore8',\n",
    "    'playerScore9',\n",
    "    'perk0',\n",
    "    'perk0Var1',\n",
    "    'perk0Var2',\n",
    "    'perk0Var3',\n",
    "    'perk1',\n",
    "    'perk1Var1',\n",
    "    'perk1Var2',\n",
    "    'perk1Var3',\n",
    "    'perk2',\n",
    "    'perk2Var1',\n",
    "    'perk2Var2',\n",
    "    'perk2Var3',\n",
    "    'perk3',\n",
    "    'perk3Var1',\n",
    "    'perk3Var2',\n",
    "    'perk3Var3',\n",
    "    'perk4',\n",
    "    'perk4Var1',\n",
    "    'perk4Var2',\n",
    "    'perk4Var3',\n",
    "    'perk5',\n",
    "    'perk5Var1',\n",
    "    'perk5Var2',\n",
    "    'perk5Var3',\n",
    "    'perkPrimaryStyle',\n",
    "    'perkSubStyle',\n",
    "    'statPerk0',\n",
    "    'statPerk1',\n",
    "    'statPerk2'\n",
    "]"
   ]
  },
  {
   "cell_type": "code",
   "execution_count": null,
   "metadata": {},
   "outputs": [],
   "source": []
  },
  {
   "cell_type": "code",
   "execution_count": null,
   "metadata": {},
   "outputs": [],
   "source": []
  },
  {
   "cell_type": "code",
   "execution_count": null,
   "metadata": {},
   "outputs": [],
   "source": []
  }
 ],
 "metadata": {
  "kernelspec": {
   "display_name": "Python 3",
   "language": "python",
   "name": "python3"
  },
  "language_info": {
   "codemirror_mode": {
    "name": "ipython",
    "version": 3
   },
   "file_extension": ".py",
   "mimetype": "text/x-python",
   "name": "python",
   "nbconvert_exporter": "python",
   "pygments_lexer": "ipython3",
   "version": "3.7.6"
  }
 },
 "nbformat": 4,
 "nbformat_minor": 4
}
