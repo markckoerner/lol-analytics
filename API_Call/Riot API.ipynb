{
 "cells": [
  {
   "cell_type": "code",
   "execution_count": 21,
   "metadata": {},
   "outputs": [
    {
     "name": "stdout",
     "output_type": "stream",
     "text": [
      "The autoreload extension is already loaded. To reload it, use:\n",
      "  %reload_ext autoreload\n"
     ]
    }
   ],
   "source": [
    "import requests\n",
    "import json\n",
    "import pandas as pd\n",
    "import os\n",
    "import numpy as np\n",
    "\n",
    "from google.cloud import bigquery\n",
    "from google.oauth2 import service_account\n",
    "\n",
    "#external modules\n",
    "import api_call_helpers as ach\n",
    "import bigquery_functions as pp\n",
    "# for auto-reloading external modules\n",
    "%load_ext autoreload\n",
    "%autoreload 2"
   ]
  },
  {
   "cell_type": "code",
   "execution_count": 2,
   "metadata": {},
   "outputs": [],
   "source": [
    "# bigquery credentials\n",
    "path = os.getcwd()\n",
    "secrets_filename = 'bigquery_auth.json'\n",
    "\n",
    "CREDENTIALS = service_account.Credentials.from_service_account_file(\n",
    "    f'{path}/{secrets_filename}')\n",
    "PROJECT_ID = 'riotdashboard-283414'\n",
    "DATASET_ID = 'RIOT_DWH'\n",
    "TABLE_ID = 'MATCH_STATISTICS'"
   ]
  },
  {
   "cell_type": "code",
   "execution_count": 3,
   "metadata": {},
   "outputs": [],
   "source": [
    "# set up riot params\n",
    "USERNAME = 'tanas0rn'\n",
    "API_KEY = 'RGAPI-f0473e1a-e5e8-4334-9252-7828b0d625c3'\n",
    "ORIGIN = \"https://developer.riotgames.com\"\n",
    "ACCEPT_CHARSET = \"application/x-www-form-urlencoded; charset=UTF-8\"\n",
    "ACCEPT_LANGUAGE = \"de-DE,de;q=0.9,en-US;q=0.8,en;q=0.7,en-GB;q=0.6\"\n",
    "USER_AGENT = \"Mozilla/5.0 (Macintosh; Intel Mac OS X 10_15_5) AppleWebKit/537.36 (KHTML, like Gecko) Chrome/83.0.4103.116 Safari/537.36\"\n",
    "\n",
    "headers = {\n",
    "    \"User-Agent\": USER_AGENT,\n",
    "    \"Accept-Language\": ACCEPT_LANGUAGE,\n",
    "    \"Accept-Charset\": ACCEPT_CHARSET,\n",
    "    \"Origin\": ORIGIN,\n",
    "    \"X-Riot-Token\": API_KEY\n",
    "}"
   ]
  },
  {
   "cell_type": "markdown",
   "metadata": {},
   "source": [
    "# Connect to bigquery \n",
    "(get existing matches so that we dont insert matches already in the table)"
   ]
  },
  {
   "cell_type": "code",
   "execution_count": 110,
   "metadata": {},
   "outputs": [],
   "source": [
    "# connect to BigQuery \n",
    "# get list of all existing matches/players\n",
    "client = bigquery.Client(credentials= CREDENTIALS,project=PROJECT_ID)\n",
    "\n",
    "query = f\"\"\"\n",
    "SELECT *\n",
    "FROM RIOT_DWH.MATCH_STATISTICS\n",
    "WHERE summonername = '{USERNAME}';\n",
    "\"\"\"\n",
    "\n",
    "query_job = client.query(query)\n",
    "results = query_job.result().to_dataframe() "
   ]
  },
  {
   "cell_type": "markdown",
   "metadata": {},
   "source": [
    "# Query riot api"
   ]
  },
  {
   "cell_type": "code",
   "execution_count": 111,
   "metadata": {},
   "outputs": [
    {
     "name": "stdout",
     "output_type": "stream",
     "text": [
      " Request Successful\n"
     ]
    }
   ],
   "source": [
    "# get summoner info (account ID etc)\n",
    "encrypted_account_id = ach.get_encrypted_accid(USERNAME,headers)"
   ]
  },
  {
   "cell_type": "code",
   "execution_count": 112,
   "metadata": {},
   "outputs": [
    {
     "name": "stdout",
     "output_type": "stream",
     "text": [
      " Request Successful\n",
      " Request Successful\n",
      " Request Successful\n",
      "Total 255 Matches Retrieved\n"
     ]
    }
   ],
   "source": [
    "# get match list for summoner\n",
    "match_list = ach.get_match_list_by_accid(encrypted_account_id,headers)"
   ]
  },
  {
   "cell_type": "code",
   "execution_count": null,
   "metadata": {},
   "outputs": [],
   "source": []
  },
  {
   "cell_type": "code",
   "execution_count": 113,
   "metadata": {},
   "outputs": [],
   "source": [
    "# get all of the match IDs\n",
    "match_ids = [item['gameId'] for item in match_list]\n",
    "\n",
    "# make sure that this record doesn't already exist in database (take out ones that already exist)\n",
    "match_ids = np.setdiff1d(match_ids,list(results['matchID']))"
   ]
  },
  {
   "cell_type": "code",
   "execution_count": 114,
   "metadata": {},
   "outputs": [
    {
     "data": {
      "text/plain": [
       "218"
      ]
     },
     "execution_count": 114,
     "metadata": {},
     "output_type": "execute_result"
    }
   ],
   "source": [
    "len(match_ids)"
   ]
  },
  {
   "cell_type": "code",
   "execution_count": 135,
   "metadata": {},
   "outputs": [
    {
     "name": "stdout",
     "output_type": "stream",
     "text": [
      " Request Successful\n",
      " Request Successful\n",
      " Request Successful\n",
      " Request Successful\n",
      " Request Successful\n",
      " Request Successful\n",
      " Request Successful\n",
      " Request Successful\n",
      " Request Successful\n",
      " Request Successful\n",
      " Request Successful\n",
      " Request Successful\n",
      " Request Successful\n",
      " Request Successful\n",
      " Request Successful\n",
      " Request Successful\n",
      " Request Successful\n",
      " Request Successful\n",
      " Request Successful\n",
      " Request Successful\n",
      " Request Successful\n",
      " Request Successful\n",
      " Request Successful\n",
      " Request Successful\n",
      " Request Successful\n",
      " Request Successful\n",
      " Request Successful\n",
      " Request Successful\n",
      " Request Successful\n",
      " Request Successful\n",
      " Request Successful\n",
      " Request Successful\n",
      " Request Successful\n",
      " Request Successful\n",
      " Request Successful\n",
      " Request Successful\n",
      " Request Successful\n",
      " Request Successful\n",
      " Request Successful\n",
      " Request Successful\n",
      " Request Successful\n",
      " Request Successful\n",
      " Request Successful\n",
      " Request Successful\n",
      " Request Successful\n",
      " Request Successful\n",
      " Request Successful\n",
      " Request Successful\n",
      " Request Successful\n",
      " Request Successful\n"
     ]
    }
   ],
   "source": [
    "# get match stats\n",
    "matchstats = []\n",
    "for match_id in match_ids[:50]:\n",
    "    stats = ach.get_match_stats(USERNAME,match_id,headers)\n",
    "    \n",
    "    matchstats.append(stats)"
   ]
  },
  {
   "cell_type": "markdown",
   "metadata": {},
   "source": [
    "# Data preprocessing (to tuples + remove unwanted fields + ensure data integrity)"
   ]
  },
  {
   "cell_type": "markdown",
   "metadata": {},
   "source": [
    "df = pd.DataFrame(matchstats)\n",
    "for col in df.columns:\n",
    "    print(col)"
   ]
  },
  {
   "cell_type": "code",
   "execution_count": 238,
   "metadata": {},
   "outputs": [],
   "source": [
    "db_columns = list(results.columns)"
   ]
  },
  {
   "cell_type": "code",
   "execution_count": 252,
   "metadata": {},
   "outputs": [],
   "source": [
    "# null value handling\n",
    "for match in matchstats:\n",
    "    keys_to_remove = set(match.keys()) - set(db_columns)\n",
    "    pp.entries_to_remove(keys_to_remove,match)\n",
    "    \n",
    "    for col in db_columns:\n",
    "        if col in match.keys():\n",
    "            pass\n",
    "        else:\n",
    "            match[col] = None\n",
    "    assert len(match) == 59"
   ]
  },
  {
   "cell_type": "code",
   "execution_count": 277,
   "metadata": {},
   "outputs": [],
   "source": [
    "#convert to tuples and assert column order\n",
    "# we have to convert this in a billion formats for the datatype\n",
    "df = pd.DataFrame(matchstats, columns = db_columns)\n",
    "df = df.replace({np.nan: None})\n",
    "records = df.to_dict('records')\n",
    "matchstats_tuples = [tuple(d.values()) for d in records]"
   ]
  },
  {
   "cell_type": "markdown",
   "metadata": {},
   "source": [
    "# Insert data into bigquery table"
   ]
  },
  {
   "cell_type": "code",
   "execution_count": 290,
   "metadata": {},
   "outputs": [
    {
     "name": "stdout",
     "output_type": "stream",
     "text": [
      "[]\n"
     ]
    }
   ],
   "source": [
    "pp.insert_rows_to_bigquery(CREDENTIALS,\n",
    "                            PROJECT_ID,\n",
    "                            DATASET_ID,\n",
    "                            TABLE_ID,\n",
    "                            matchstats_tuples)"
   ]
  },
  {
   "cell_type": "code",
   "execution_count": null,
   "metadata": {},
   "outputs": [],
   "source": []
  },
  {
   "cell_type": "code",
   "execution_count": null,
   "metadata": {},
   "outputs": [],
   "source": []
  },
  {
   "cell_type": "code",
   "execution_count": null,
   "metadata": {},
   "outputs": [],
   "source": []
  },
  {
   "cell_type": "code",
   "execution_count": null,
   "metadata": {},
   "outputs": [],
   "source": []
  },
  {
   "cell_type": "code",
   "execution_count": null,
   "metadata": {},
   "outputs": [],
   "source": []
  }
 ],
 "metadata": {
  "kernelspec": {
   "display_name": "Python 3",
   "language": "python",
   "name": "python3"
  },
  "language_info": {
   "codemirror_mode": {
    "name": "ipython",
    "version": 3
   },
   "file_extension": ".py",
   "mimetype": "text/x-python",
   "name": "python",
   "nbconvert_exporter": "python",
   "pygments_lexer": "ipython3",
   "version": "3.8.3"
  }
 },
 "nbformat": 4,
 "nbformat_minor": 4
}
